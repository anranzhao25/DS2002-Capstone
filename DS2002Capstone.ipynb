{
 "cells": [
  {
   "cell_type": "markdown",
   "metadata": {
    "application/vnd.databricks.v1+cell": {
     "cellMetadata": {
      "byteLimit": 2048000,
      "rowLimit": 10000
     },
     "inputWidgets": {},
     "nuid": "4f6cce12-a006-4a6f-aa2d-49ffb1836a2e",
     "showTitle": false,
     "title": ""
    }
   },
   "source": [
    "## Data Science 2002 Capstone- Anran Zhao (nrb6yu)\n",
    "\n",
    "### Section I: Prerequisites\n",
    "\n",
    "#### 1.0. Import Required Libraries"
   ]
  },
  {
   "cell_type": "code",
   "execution_count": 0,
   "metadata": {
    "application/vnd.databricks.v1+cell": {
     "cellMetadata": {
      "byteLimit": 2048000,
      "rowLimit": 10000
     },
     "inputWidgets": {},
     "nuid": "f6a8545c-e396-40dd-a0eb-8fb98663bef7",
     "showTitle": false,
     "title": ""
    }
   },
   "outputs": [],
   "source": [
    "import os\n",
    "import json\n",
    "import pymongo\n",
    "import pyspark.pandas as pd  # This uses Koalas that is included in PySpark version 3.2 or newer.\n",
    "from pyspark.sql.functions import col\n",
    "from pyspark.sql.types import StructType, StructField, StringType, TimestampType, BinaryType\n",
    "from pyspark.sql.types import ByteType, ShortType, IntegerType, LongType, FloatType, DecimalType"
   ]
  },
  {
   "cell_type": "markdown",
   "metadata": {
    "application/vnd.databricks.v1+cell": {
     "cellMetadata": {},
     "inputWidgets": {},
     "nuid": "3c43fc7d-2918-4270-8595-354881a4e36d",
     "showTitle": false,
     "title": ""
    }
   },
   "source": [
    "#### 2.0. Instantiate Global Variables"
   ]
  },
  {
   "cell_type": "code",
   "execution_count": 0,
   "metadata": {
    "application/vnd.databricks.v1+cell": {
     "cellMetadata": {
      "byteLimit": 2048000,
      "rowLimit": 10000
     },
     "inputWidgets": {},
     "nuid": "ae18ed4a-a051-4249-ac4d-55d27a42b4e5",
     "showTitle": false,
     "title": ""
    }
   },
   "outputs": [],
   "source": [
    "# Azure MySQL Server Connection Information ###################\n",
    "jdbc_hostname = \"nrb6yu-mysql.mysql.database.azure.com\"\n",
    "jdbc_port = 3306\n",
    "src_database = \"sakila\"\n",
    "\n",
    "connection_properties = {\n",
    "  \"user\" : \"azhao\",\n",
    "  \"password\" : \"Passw0rd123\",\n",
    "  \"driver\" : \"org.mariadb.jdbc.Driver\"\n",
    "}\n",
    "\n",
    "# MongoDB Atlas Connection Information ########################\n",
    "atlas_cluster_name = \"sandbox.mvvgsd3\"\n",
    "atlas_database_name = \"sakila\"\n",
    "atlas_user_name = \"nrb6yu\"\n",
    "atlas_password = \"Passw0rd1234\"\n",
    "\n",
    "# Data Files (JSON) Information ###############################\n",
    "dst_database = \"sakila_dlh\"\n",
    "\n",
    "base_dir = \"dbfs:/FileStore/data\"\n",
    "database_dir = f\"{base_dir}/{dst_database}\"\n",
    "\n",
    "data_dir = f\"{base_dir}/sakila\"\n",
    "batch_dir = f\"{data_dir}/batch\"\n",
    "stream_dir = f\"{data_dir}/stream\"\n",
    "\n",
    "orders_stream_dir = f\"{stream_dir}/rentals\"\n",
    "\n",
    "orders_output_bronze = f\"{database_dir}/fact_rentals/bronze\"\n",
    "orders_output_silver = f\"{database_dir}/fact_rentals/silver\"\n",
    "orders_output_gold   = f\"{database_dir}/fact_rentals/gold\"\n",
    "\n",
    "# Delete the Streaming Files ################################## \n",
    "dbutils.fs.rm(f\"{database_dir}/fact_rentals\", True) \n",
    "\n",
    "# Delete the Database Files ###################################\n",
    "dbutils.fs.rm(database_dir, True)"
   ]
  },
  {
   "cell_type": "markdown",
   "metadata": {
    "application/vnd.databricks.v1+cell": {
     "cellMetadata": {},
     "inputWidgets": {},
     "nuid": "4e33d70f-637e-4eb6-a1a8-c00ea26011a5",
     "showTitle": false,
     "title": ""
    }
   },
   "source": [
    "#### 3.0. Define Global Functions"
   ]
  },
  {
   "cell_type": "code",
   "execution_count": 0,
   "metadata": {
    "application/vnd.databricks.v1+cell": {
     "cellMetadata": {
      "byteLimit": 2048000,
      "rowLimit": 10000
     },
     "inputWidgets": {},
     "nuid": "939af89f-638e-44fd-8e58-f88591889f4c",
     "showTitle": false,
     "title": ""
    }
   },
   "outputs": [],
   "source": [
    "##################################################################################################################\n",
    "# Use this Function to Fetch a DataFrame from the MongoDB Atlas database server Using PyMongo.\n",
    "##################################################################################################################\n",
    "def get_mongo_dataframe(user_id, pwd, cluster_name, db_name, collection, conditions, projection, sort):\n",
    "    '''Create a client connection to MongoDB'''\n",
    "    mongo_uri = f\"mongodb+srv://{user_id}:{pwd}@{cluster_name}.mongodb.net/{db_name}\"\n",
    "    \n",
    "    client = pymongo.MongoClient(mongo_uri)\n",
    "\n",
    "    '''Query MongoDB, and fill a python list with documents to create a DataFrame'''\n",
    "    db = client[db_name]\n",
    "    if conditions and projection and sort:\n",
    "        dframe = pd.DataFrame(list(db[collection].find(conditions, projection).sort(sort)))\n",
    "    elif conditions and projection and not sort:\n",
    "        dframe = pd.DataFrame(list(db[collection].find(conditions, projection)))\n",
    "    else:\n",
    "        dframe = pd.DataFrame(list(db[collection].find()))\n",
    "\n",
    "    client.close()\n",
    "    \n",
    "    return dframe\n",
    "\n",
    "##################################################################################################################\n",
    "# Use this Function to Create New Collections by Uploading JSON file(s) to the MongoDB Atlas server.\n",
    "##################################################################################################################\n",
    "def set_mongo_collection(user_id, pwd, cluster_name, db_name, src_file_path, json_files):\n",
    "    '''Create a client connection to MongoDB'''\n",
    "    mongo_uri = f\"mongodb+srv://{user_id}:{pwd}@{cluster_name}.mongodb.net/{db_name}\"\n",
    "    client = pymongo.MongoClient(mongo_uri)\n",
    "    db = client[db_name]\n",
    "    \n",
    "    '''Read in a JSON file, and Use It to Create a New Collection'''\n",
    "    for file in json_files:\n",
    "        db.drop_collection(file)\n",
    "        json_file = os.path.join(src_file_path, json_files[file])\n",
    "        with open(json_file, 'r') as openfile:\n",
    "            json_object = json.load(openfile)\n",
    "            file = db[file]\n",
    "            result = file.insert_many(json_object)\n",
    "\n",
    "    client.close()\n",
    "    \n",
    "    return result"
   ]
  },
  {
   "cell_type": "markdown",
   "metadata": {
    "application/vnd.databricks.v1+cell": {
     "cellMetadata": {},
     "inputWidgets": {},
     "nuid": "8066e8d6-3626-449d-a985-2fce976d0914",
     "showTitle": false,
     "title": ""
    }
   },
   "source": [
    "### Section II: Populate Dimensions by Ingesting Reference (Cold-path) Data \n",
    "#### 1.0. Fetch Reference Data From an Azure MySQL Database\n",
    "##### 1.1. Create a New Databricks Metadata Database."
   ]
  },
  {
   "cell_type": "code",
   "execution_count": 0,
   "metadata": {
    "application/vnd.databricks.v1+cell": {
     "cellMetadata": {
      "byteLimit": 2048000,
      "implicitDf": true,
      "rowLimit": 10000
     },
     "inputWidgets": {},
     "nuid": "cd70267e-3bc4-4f48-a7ef-4ea4d2dcc3c6",
     "showTitle": false,
     "title": ""
    }
   },
   "outputs": [],
   "source": [
    "%sql\n",
    "DROP DATABASE IF EXISTS sakila_dlh CASCADE;"
   ]
  },
  {
   "cell_type": "code",
   "execution_count": 0,
   "metadata": {
    "application/vnd.databricks.v1+cell": {
     "cellMetadata": {
      "byteLimit": 2048000,
      "implicitDf": true,
      "rowLimit": 10000
     },
     "inputWidgets": {},
     "nuid": "8753d7a5-d652-4163-b69f-71355180c93a",
     "showTitle": false,
     "title": ""
    }
   },
   "outputs": [],
   "source": [
    "%sql\n",
    "CREATE DATABASE IF NOT EXISTS sakila_dlh\n",
    "COMMENT \"DS-2002 Capstone\"\n",
    "LOCATION \"dbfs:/FileStore/data/sakila_dlh\"\n",
    "WITH DBPROPERTIES (contains_pii = true, purpose = \"DS-2002 Capstone\");"
   ]
  },
  {
   "cell_type": "markdown",
   "metadata": {
    "application/vnd.databricks.v1+cell": {
     "cellMetadata": {},
     "inputWidgets": {},
     "nuid": "8b8250c5-9f2b-4b9b-9e3a-6e5fcd2b3aff",
     "showTitle": false,
     "title": ""
    }
   },
   "source": [
    "##### 1.2. Create a New Table that Sources Date Dimension Data from a Table in an Azure MySQL database. "
   ]
  },
  {
   "cell_type": "code",
   "execution_count": 0,
   "metadata": {
    "application/vnd.databricks.v1+cell": {
     "cellMetadata": {
      "byteLimit": 2048000,
      "implicitDf": true,
      "rowLimit": 10000
     },
     "inputWidgets": {},
     "nuid": "7fc64a21-eb30-4d1d-9ed9-9258593d5281",
     "showTitle": false,
     "title": ""
    }
   },
   "outputs": [],
   "source": [
    "%sql\n",
    "CREATE OR REPLACE TEMPORARY VIEW view_date\n",
    "USING org.apache.spark.sql.jdbc\n",
    "OPTIONS (\n",
    "  url \"jdbc:mysql://nrb6yu-mysql.mysql.database.azure.com:3306/northwind_dw2\",\n",
    "  dbtable \"dim_date\",\n",
    "  user \"azhao\",   \n",
    "  password \"Passw0rd123\"\n",
    ")"
   ]
  },
  {
   "cell_type": "code",
   "execution_count": 0,
   "metadata": {
    "application/vnd.databricks.v1+cell": {
     "cellMetadata": {
      "byteLimit": 2048000,
      "implicitDf": true,
      "rowLimit": 10000
     },
     "inputWidgets": {},
     "nuid": "015675a3-1b74-4f42-b00b-df8b9f2cfa0c",
     "showTitle": false,
     "title": ""
    }
   },
   "outputs": [],
   "source": [
    "%sql\n",
    "USE DATABASE sakila_dlh;\n",
    "\n",
    "CREATE OR REPLACE TABLE sakila_dlh.dim_date\n",
    "COMMENT \"Date Dimension Table\"\n",
    "LOCATION \"dbfs:/FileStore/data/sakila_dlh/dim_date\"\n",
    "AS SELECT * FROM view_date"
   ]
  },
  {
   "cell_type": "code",
   "execution_count": 0,
   "metadata": {
    "application/vnd.databricks.v1+cell": {
     "cellMetadata": {
      "byteLimit": 2048000,
      "implicitDf": true,
      "rowLimit": 10000
     },
     "inputWidgets": {},
     "nuid": "368e6706-b13d-4be4-98dd-16956e85d40b",
     "showTitle": false,
     "title": ""
    }
   },
   "outputs": [],
   "source": [
    "%sql\n",
    "DESCRIBE EXTENDED sakila_dlh.dim_date;"
   ]
  },
  {
   "cell_type": "code",
   "execution_count": 0,
   "metadata": {
    "application/vnd.databricks.v1+cell": {
     "cellMetadata": {
      "byteLimit": 2048000,
      "implicitDf": true,
      "rowLimit": 10000
     },
     "inputWidgets": {},
     "nuid": "7f395402-1acd-49e7-85e7-a47ff0439522",
     "showTitle": false,
     "title": ""
    }
   },
   "outputs": [],
   "source": [
    "%sql\n",
    "SELECT * FROM sakila_dlh.dim_date LIMIT 5"
   ]
  },
  {
   "cell_type": "markdown",
   "metadata": {
    "application/vnd.databricks.v1+cell": {
     "cellMetadata": {},
     "inputWidgets": {},
     "nuid": "c15f580a-989b-4a6a-bf5c-e50d3a8d3885",
     "showTitle": false,
     "title": ""
    }
   },
   "source": [
    "##### 1.3. Create a New Table that Sources Inventory Dimension Data from an Azure MySQL database."
   ]
  },
  {
   "cell_type": "code",
   "execution_count": 0,
   "metadata": {
    "application/vnd.databricks.v1+cell": {
     "cellMetadata": {
      "byteLimit": 2048000,
      "implicitDf": true,
      "rowLimit": 10000
     },
     "inputWidgets": {},
     "nuid": "7bb46df0-4476-4cda-86a1-f4cf614113fa",
     "showTitle": false,
     "title": ""
    }
   },
   "outputs": [],
   "source": [
    "%sql\n",
    "-- Create a Temporary View named \"view_inventory\" that extracts data from your MySQL Sakila database.\n",
    "CREATE OR REPLACE TEMPORARY VIEW view_product\n",
    "USING org.apche.spark.sql.jdbc\n",
    "OPTIONS (\n",
    "  url \"jdbc:mysql://nrb6yu-mysql.mysql.database.azure.com:3306/northwind_dw2\",\n",
    "  dbtable \"dim_inventory\",\n",
    "  user \"azhao\"\n",
    "  password \"Passw0rd123\"\n",
    ")"
   ]
  },
  {
   "cell_type": "code",
   "execution_count": 0,
   "metadata": {
    "application/vnd.databricks.v1+cell": {
     "cellMetadata": {
      "byteLimit": 2048000,
      "implicitDf": true,
      "rowLimit": 10000
     },
     "inputWidgets": {},
     "nuid": "23d0585b-87f4-4f85-affa-3637c5e073f5",
     "showTitle": false,
     "title": ""
    }
   },
   "outputs": [],
   "source": [
    "%sql\n",
    "USE DATABASE sakila_dlh;\n",
    "\n",
    "-- Create a new table named \"sakila_dlh.dim_product\" using data from the view named \"view_inventory\"\n",
    "CREATE OR REPLACE TABLE northwind_dlh.dim_inventory\n",
    "COMMENT \"Inventory Dimension Table\"\n",
    "LOCATION \"dbfs:/FileStore/data/sakila_dlh/dim_inventory\"\n",
    "AS SELECT * FROM view_product"
   ]
  },
  {
   "cell_type": "code",
   "execution_count": 0,
   "metadata": {
    "application/vnd.databricks.v1+cell": {
     "cellMetadata": {
      "byteLimit": 2048000,
      "implicitDf": true,
      "rowLimit": 10000
     },
     "inputWidgets": {},
     "nuid": "f6acafaa-98f3-4b1d-9e14-3466c82c1e6a",
     "showTitle": false,
     "title": ""
    }
   },
   "outputs": [],
   "source": [
    "%sql\n",
    "DESCRIBE EXTENDED sakila_dlh.dim_product;"
   ]
  },
  {
   "cell_type": "code",
   "execution_count": 0,
   "metadata": {
    "application/vnd.databricks.v1+cell": {
     "cellMetadata": {
      "byteLimit": 2048000,
      "implicitDf": true,
      "rowLimit": 10000
     },
     "inputWidgets": {},
     "nuid": "fc516608-0ca2-4c2f-b390-e56aca76b87d",
     "showTitle": false,
     "title": ""
    }
   },
   "outputs": [],
   "source": [
    "%sql\n",
    "SELECT * FROM sakila_dlh.dim_product LIMIT 5"
   ]
  },
  {
   "cell_type": "markdown",
   "metadata": {
    "application/vnd.databricks.v1+cell": {
     "cellMetadata": {},
     "inputWidgets": {},
     "nuid": "5763da8c-b2df-4cfa-83e6-0e05503ddce0",
     "showTitle": false,
     "title": ""
    }
   },
   "source": [
    "#### 2.0. Fetch Reference Data from a MongoDB Atlas Database\n",
    "##### 2.1. View the Data Files on the Databricks File System"
   ]
  },
  {
   "cell_type": "code",
   "execution_count": 0,
   "metadata": {
    "application/vnd.databricks.v1+cell": {
     "cellMetadata": {
      "byteLimit": 2048000,
      "rowLimit": 10000
     },
     "inputWidgets": {},
     "nuid": "fcd0ce73-5fc9-48b1-9ee8-0ffaf402407f",
     "showTitle": false,
     "title": ""
    }
   },
   "outputs": [],
   "source": [
    "display(dbutils.fs.ls(batch_dir))  # '/dbfs/FileStore/data/sakila/batch'"
   ]
  },
  {
   "cell_type": "markdown",
   "metadata": {
    "application/vnd.databricks.v1+cell": {
     "cellMetadata": {},
     "inputWidgets": {},
     "nuid": "0e943953-1c04-43a3-b117-01980bfefbf9",
     "showTitle": false,
     "title": ""
    }
   },
   "source": [
    "##### 2.2. Create a New MongoDB Database, and Load JSON Data Into a New MongoDB Collection\n",
    "**NOTE:** The following cell **can** be run more than once because the **set_mongo_collection()** function **is** idempotent."
   ]
  },
  {
   "cell_type": "code",
   "execution_count": 0,
   "metadata": {
    "application/vnd.databricks.v1+cell": {
     "cellMetadata": {
      "byteLimit": 2048000,
      "rowLimit": 10000
     },
     "inputWidgets": {},
     "nuid": "12764988-6562-4070-af68-697ca403bfe3",
     "showTitle": false,
     "title": ""
    }
   },
   "outputs": [],
   "source": [
    "source_dir = '/dbfs/FileStore/data/sakila/batch'\n",
    "json_files = {\"inventory\" : 'inventory.json'}\n",
    "\n",
    "set_mongo_collection(atlas_user_name, atlas_password, atlas_cluster_name, atlas_database_name, source_dir, json_files) "
   ]
  },
  {
   "cell_type": "markdown",
   "metadata": {
    "application/vnd.databricks.v1+cell": {
     "cellMetadata": {},
     "inputWidgets": {},
     "nuid": "675d2e83-b51d-48ef-937d-f8beacb86fb6",
     "showTitle": false,
     "title": ""
    }
   },
   "source": [
    "##### 2.3.1. Fetch Inventory Dimension Data from the New MongoDB Collection"
   ]
  },
  {
   "cell_type": "code",
   "execution_count": 0,
   "metadata": {
    "application/vnd.databricks.v1+cell": {
     "cellMetadata": {},
     "inputWidgets": {},
     "nuid": "4881e786-3560-425b-8a1a-8601e8de2bf9",
     "showTitle": false,
     "title": ""
    }
   },
   "outputs": [],
   "source": [
    "%scala\n",
    "import com.mongodb.spark._\n",
    "\n",
    "val userName = \"nrb6yu\"\n",
    "val pwd = \"Passw0rd1234\"\n",
    "val clusterName = \"sandbox.mvvgsd3\"\n",
    "val atlas_uri = s\"mongodb+srv://$userName:$pwd@$clusterName.mongodb.net/?retryWrites=true&w=majority\""
   ]
  },
  {
   "cell_type": "code",
   "execution_count": 0,
   "metadata": {
    "application/vnd.databricks.v1+cell": {
     "cellMetadata": {
      "byteLimit": 2048000,
      "rowLimit": 10000
     },
     "inputWidgets": {},
     "nuid": "c5029015-be65-49ed-b2e7-eb60d22013ca",
     "showTitle": false,
     "title": ""
    }
   },
   "outputs": [],
   "source": [
    "%scala\n",
    "\n",
    "val df_inventory = spark.read.format(\"com.mongodb.spark.sql.DefaultSource\")\n",
    ".option(\"spark.mongodb.input.uri\", atlas_uri)\n",
    ".option(\"database\", \"sakila\")\n",
    ".option(\"collection\", \"inventory\").load()\n",
    ".select(\"inventory_key\",\"inventory_id\",\"film_id\",\"store_id\")\n",
    "\n",
    "display(df_inventory)"
   ]
  },
  {
   "cell_type": "code",
   "execution_count": 0,
   "metadata": {
    "application/vnd.databricks.v1+cell": {
     "cellMetadata": {
      "byteLimit": 2048000,
      "rowLimit": 10000
     },
     "inputWidgets": {},
     "nuid": "4d62a4b0-3071-400f-8bbb-5a89f3c91d5c",
     "showTitle": false,
     "title": ""
    }
   },
   "outputs": [],
   "source": [
    "%scala\n",
    "df_inventory.printSchema()"
   ]
  },
  {
   "cell_type": "markdown",
   "metadata": {
    "application/vnd.databricks.v1+cell": {
     "cellMetadata": {},
     "inputWidgets": {},
     "nuid": "179f0875-98bd-4988-bfa5-af82d0181eb6",
     "showTitle": false,
     "title": ""
    }
   },
   "source": [
    "##### 2.3.2. Use the Spark DataFrame to Create a New Inventory Dimension Table in the Databricks Metadata Database (northwind_dlh)"
   ]
  },
  {
   "cell_type": "code",
   "execution_count": 0,
   "metadata": {
    "application/vnd.databricks.v1+cell": {
     "cellMetadata": {
      "byteLimit": 2048000,
      "rowLimit": 10000
     },
     "inputWidgets": {},
     "nuid": "2de15218-dfa0-4ec1-ab3f-243d650b86b4",
     "showTitle": false,
     "title": ""
    }
   },
   "outputs": [],
   "source": [
    "%scala\n",
    "df_customer.write.format(\"delta\").mode(\"overwrite\").saveAsTable(\"sakila_dlh.dim_inventory\")"
   ]
  },
  {
   "cell_type": "code",
   "execution_count": 0,
   "metadata": {
    "application/vnd.databricks.v1+cell": {
     "cellMetadata": {
      "byteLimit": 2048000,
      "implicitDf": true,
      "rowLimit": 10000
     },
     "inputWidgets": {},
     "nuid": "62999814-4e3e-4bb1-aac1-7ef79266c22d",
     "showTitle": false,
     "title": ""
    }
   },
   "outputs": [],
   "source": [
    "%sql\n",
    "DESCRIBE EXTENDED sakila_dlh.dim_inventory"
   ]
  },
  {
   "cell_type": "code",
   "execution_count": 0,
   "metadata": {
    "application/vnd.databricks.v1+cell": {
     "cellMetadata": {
      "byteLimit": 2048000,
      "implicitDf": true,
      "rowLimit": 10000
     },
     "inputWidgets": {},
     "nuid": "d4924a30-ad66-424c-b511-19cbfaefe93e",
     "showTitle": false,
     "title": ""
    }
   },
   "outputs": [],
   "source": [
    "%sql\n",
    "SELECT * FROM sakila_dlh.dim_inventory LIMIT 5"
   ]
  },
  {
   "cell_type": "markdown",
   "metadata": {
    "application/vnd.databricks.v1+cell": {
     "cellMetadata": {},
     "inputWidgets": {},
     "nuid": "9936b98e-53e2-4f75-9db5-9bbefad735fe",
     "showTitle": false,
     "title": ""
    }
   },
   "source": [
    "#### 3.0. Fetch Staff Data from a File System\n",
    "##### 3.1. Use PySpark to Read From a CSV File"
   ]
  },
  {
   "cell_type": "code",
   "execution_count": 0,
   "metadata": {
    "application/vnd.databricks.v1+cell": {
     "cellMetadata": {
      "byteLimit": 2048000,
      "rowLimit": 10000
     },
     "inputWidgets": {},
     "nuid": "b47c7ad8-a57b-46ca-a734-9bbf271cf0bf",
     "showTitle": false,
     "title": ""
    }
   },
   "outputs": [],
   "source": [
    "staff_csv = f\"{batch_dir}/staff.csv\"\n",
    "\n",
    "df_staff = spark.read.format('csv').options(header='true', inferSchema='true').load(staff_csv)\n",
    "display(df_staff)"
   ]
  },
  {
   "cell_type": "code",
   "execution_count": 0,
   "metadata": {
    "application/vnd.databricks.v1+cell": {
     "cellMetadata": {
      "byteLimit": 2048000,
      "rowLimit": 10000
     },
     "inputWidgets": {},
     "nuid": "12852bc5-3ebd-4ef8-a96b-8b25516ccbea",
     "showTitle": false,
     "title": ""
    }
   },
   "outputs": [],
   "source": [
    "df_staff.printSchema()"
   ]
  },
  {
   "cell_type": "code",
   "execution_count": 0,
   "metadata": {
    "application/vnd.databricks.v1+cell": {
     "cellMetadata": {
      "byteLimit": 2048000,
      "rowLimit": 10000
     },
     "inputWidgets": {},
     "nuid": "199f4806-101a-41bf-ac54-b8ec2b8c4935",
     "showTitle": false,
     "title": ""
    }
   },
   "outputs": [],
   "source": [
    "df_staff.write.format(\"delta\").mode(\"overwrite\").saveAsTable(\"sakila_dlh.dim_staff\")"
   ]
  },
  {
   "cell_type": "code",
   "execution_count": 0,
   "metadata": {
    "application/vnd.databricks.v1+cell": {
     "cellMetadata": {
      "byteLimit": 2048000,
      "implicitDf": true,
      "rowLimit": 10000
     },
     "inputWidgets": {},
     "nuid": "cb7e6ae7-5c04-4c46-a49f-bbdaa975ccc6",
     "showTitle": false,
     "title": ""
    }
   },
   "outputs": [],
   "source": [
    "%sql\n",
    "DESCRIBE EXTENDED sakila_dlh.dim_staff;"
   ]
  },
  {
   "cell_type": "code",
   "execution_count": 0,
   "metadata": {
    "application/vnd.databricks.v1+cell": {
     "cellMetadata": {
      "byteLimit": 2048000,
      "implicitDf": true,
      "rowLimit": 10000
     },
     "inputWidgets": {},
     "nuid": "c0e93baa-868a-4ea0-b168-df44c2527f17",
     "showTitle": false,
     "title": ""
    }
   },
   "outputs": [],
   "source": [
    "%sql\n",
    "SELECT * FROM sakila_dlh.dim_staff LIMIT 5;"
   ]
  },
  {
   "cell_type": "markdown",
   "metadata": {
    "application/vnd.databricks.v1+cell": {
     "cellMetadata": {},
     "inputWidgets": {},
     "nuid": "10b2930e-732d-409a-9853-28738802fac4",
     "showTitle": false,
     "title": ""
    }
   },
   "source": [
    "##### Verify Dimension Tables"
   ]
  },
  {
   "cell_type": "code",
   "execution_count": 0,
   "metadata": {
    "application/vnd.databricks.v1+cell": {
     "cellMetadata": {
      "byteLimit": 2048000,
      "implicitDf": true,
      "rowLimit": 10000
     },
     "inputWidgets": {},
     "nuid": "0da830d5-ecdd-4b6f-bc43-7c7559e9d34e",
     "showTitle": false,
     "title": ""
    }
   },
   "outputs": [],
   "source": [
    "%sql\n",
    "USE sakila_dlh;\n",
    "SHOW TABLES"
   ]
  },
  {
   "cell_type": "markdown",
   "metadata": {
    "application/vnd.databricks.v1+cell": {
     "cellMetadata": {},
     "inputWidgets": {},
     "nuid": "7cd1e0df-ee40-4631-95f2-fecd438276d8",
     "showTitle": false,
     "title": ""
    }
   },
   "source": [
    "### Section III: Integrate Reference Data with Real-Time Data\n",
    "#### 6.0. Use AutoLoader to Process Streaming (Hot Path) Orders Fact Data \n",
    "##### 6.1. Bronze Table: Process 'Raw' JSON Data"
   ]
  },
  {
   "cell_type": "code",
   "execution_count": 0,
   "metadata": {
    "application/vnd.databricks.v1+cell": {
     "cellMetadata": {
      "byteLimit": 2048000,
      "rowLimit": 10000
     },
     "inputWidgets": {},
     "nuid": "34000bc1-7f1b-4d21-bfd2-10e2bf9ee979",
     "showTitle": false,
     "title": ""
    }
   },
   "outputs": [],
   "source": [
    "(spark.readStream\n",
    " .format(\"cloudFiles\")\n",
    " .option(\"cloudFiles.format\", \"json\")\n",
    " .option(\"cloudFiles.schemaLocation\", rentals_output_bronze)\n",
    " .option(\"cloudFiles.inferColumnTypes\", \"true\")\n",
    " .option(\"multiLine\", \"true\")\n",
    " .load(rentals_stream_dir)\n",
    " .createOrReplaceTempView(\"rentals_raw_tempview\"))"
   ]
  },
  {
   "cell_type": "code",
   "execution_count": 0,
   "metadata": {
    "application/vnd.databricks.v1+cell": {
     "cellMetadata": {
      "byteLimit": 2048000,
      "implicitDf": true,
      "rowLimit": 10000
     },
     "inputWidgets": {},
     "nuid": "acf1fa4c-6860-4a4b-9046-bd79a738891b",
     "showTitle": false,
     "title": ""
    }
   },
   "outputs": [],
   "source": [
    "%sql\n",
    "/* Add Metadata for Traceability */\n",
    "CREATE OR REPLACE TEMPORARY VIEW rentals_bronze_tempview AS (\n",
    "  SELECT *, current_timestamp() receipt_time, input_file_name() source_file\n",
    "  FROM rentals_raw_tempview\n",
    ")"
   ]
  },
  {
   "cell_type": "code",
   "execution_count": 0,
   "metadata": {
    "application/vnd.databricks.v1+cell": {
     "cellMetadata": {
      "byteLimit": 2048000,
      "implicitDf": true,
      "rowLimit": 10000
     },
     "inputWidgets": {},
     "nuid": "93ecede6-693c-4949-8aba-b2344680af03",
     "showTitle": false,
     "title": ""
    }
   },
   "outputs": [],
   "source": [
    "%sql\n",
    "SELECT * FROM rentals_bronze_tempview"
   ]
  },
  {
   "cell_type": "code",
   "execution_count": 0,
   "metadata": {
    "application/vnd.databricks.v1+cell": {
     "cellMetadata": {
      "byteLimit": 2048000,
      "rowLimit": 10000
     },
     "inputWidgets": {},
     "nuid": "e89a9e0c-69da-452a-92d5-724fb81529ed",
     "showTitle": false,
     "title": ""
    }
   },
   "outputs": [],
   "source": [
    "(spark.table(\"rentals_bronze_tempview\")\n",
    "      .writeStream\n",
    "      .format(\"delta\")\n",
    "      .option(\"checkpointLocation\", f\"{rentals_output_bronze}/_checkpoint\")\n",
    "      .outputMode(\"append\")\n",
    "      .table(\"fact_rentals_bronze\"))"
   ]
  },
  {
   "cell_type": "markdown",
   "metadata": {
    "application/vnd.databricks.v1+cell": {
     "cellMetadata": {},
     "inputWidgets": {},
     "nuid": "030a8ad8-1937-4708-91e2-2975eb731862",
     "showTitle": false,
     "title": ""
    }
   },
   "source": [
    "##### 6.2. Silver Table: Include Reference Data"
   ]
  },
  {
   "cell_type": "code",
   "execution_count": 0,
   "metadata": {
    "application/vnd.databricks.v1+cell": {
     "cellMetadata": {
      "byteLimit": 2048000,
      "rowLimit": 10000
     },
     "inputWidgets": {},
     "nuid": "4998a27c-4486-4d7c-bb79-f29d7cdeae01",
     "showTitle": false,
     "title": ""
    }
   },
   "outputs": [],
   "source": [
    "(spark.readStream\n",
    "  .table(\"fact_rentals_bronze\")\n",
    "  .createOrReplaceTempView(\"rentals_silver_tempview\"))"
   ]
  },
  {
   "cell_type": "code",
   "execution_count": 0,
   "metadata": {
    "application/vnd.databricks.v1+cell": {
     "cellMetadata": {
      "byteLimit": 2048000,
      "implicitDf": true,
      "rowLimit": 10000
     },
     "inputWidgets": {},
     "nuid": "b160aaaf-2edc-46eb-8514-765d55695ad5",
     "showTitle": false,
     "title": ""
    }
   },
   "outputs": [],
   "source": [
    "%sql\n",
    "SELECT * FROM rentals_silver_tempview"
   ]
  },
  {
   "cell_type": "code",
   "execution_count": 0,
   "metadata": {
    "application/vnd.databricks.v1+cell": {
     "cellMetadata": {
      "byteLimit": 2048000,
      "implicitDf": true,
      "rowLimit": 10000
     },
     "inputWidgets": {},
     "nuid": "27e95e9e-62c2-4c85-a66b-7d6e145a4193",
     "showTitle": false,
     "title": ""
    }
   },
   "outputs": [],
   "source": [
    "%sql\n",
    "DESCRIBE EXTENDED rentals_silver_tempview"
   ]
  },
  {
   "cell_type": "code",
   "execution_count": 0,
   "metadata": {
    "application/vnd.databricks.v1+cell": {
     "cellMetadata": {
      "byteLimit": 2048000,
      "implicitDf": true,
      "rowLimit": 10000
     },
     "inputWidgets": {},
     "nuid": "710c49bc-c34a-4db5-9cea-ab801ffe9688",
     "showTitle": false,
     "title": ""
    }
   },
   "outputs": [],
   "source": [
    "%sql\n",
    "CREATE OR REPLACE TEMPORARY VIEW fact_rentals_silver_tempview AS (\n",
    "  SELECT o.fact_rental_key,\n",
    "    r.rental_id,\n",
    "    r.rental_date_key,\n",
    "    rd.day_name_of_week AS rental_day_name_of_week,\n",
    "    rd.day_of_month AS rental_day_of_month,\n",
    "    rd.weekday_weekend AS rental_weekday_weekend,\n",
    "    rd.month_name AS rental_month_name,\n",
    "    rd.calendar_quarter AS rental_quarter,\n",
    "    rd.calendar_year AS rental_year,\n",
    "    r.return_date_key,\n",
    "    red.day_name_of_week AS return_day_name_of_week,\n",
    "    red.day_of_month AS return_day_of_month,\n",
    "    red.weekday_weekend AS return_weekday_weekend,\n",
    "    red.month_name AS return_month_name,\n",
    "    red.calendar_quarter AS return_quarter,\n",
    "    red.calendar_year AS return_year,\n",
    "    r.inventory_key\n",
    "    i.store_id AS inventory_store_id,\n",
    "    i.film_id AS inventory_film_id\n",
    "    r.customer_key,\n",
    "    c.first_name AS customer_first_name,\n",
    "    c.last_name AS customer_last_name,\n",
    "    c.email AS customer_email,\n",
    "    r.staff_key,\n",
    "    s.first_name AS staff_first_name,\n",
    "    s.last_name AS staff_last_name,\n",
    "    s.email AS staff_email,\n",
    "    s.username AS staff_username,\n",
    "    s.password AS staff_password,\n",
    "  FROM rentals_silver_tempview AS r\n",
    "  LEFT OUTER JOIN sakila_dlh.dim_date AS rd\n",
    "  ON rd.date_key = r.rental_date_key\n",
    "  LEFT OUTER JOIN sakila_dlh.dim_date AS red\n",
    "  ON red.date_key = r.return_date_key\n",
    "  INNER JOIN sakila_dlh.inventory AS i\n",
    "  ON i.inventory_key = r.inventory_key\n",
    "  INNER JOIN sakila_dlh.customer AS c\n",
    "  ON c.customer_key = r.customer_key\n",
    "  INNER JOIN sakila_dlh.staff AS s\n",
    "  ON s.staff_key = r.staff_key\n",
    ")"
   ]
  },
  {
   "cell_type": "code",
   "execution_count": 0,
   "metadata": {
    "application/vnd.databricks.v1+cell": {
     "cellMetadata": {
      "byteLimit": 2048000,
      "rowLimit": 10000
     },
     "inputWidgets": {},
     "nuid": "240d8a94-0801-4e89-966d-a08f843efb6b",
     "showTitle": false,
     "title": ""
    }
   },
   "outputs": [],
   "source": [
    "(spark.table(\"fact_rentals_silver_tempview\")\n",
    "      .writeStream\n",
    "      .format(\"delta\")\n",
    "      .option(\"checkpointLocation\", f\"{rentals_output_silver}/_checkpoint\")\n",
    "      .outputMode(\"append\")\n",
    "      .table(\"fact_rentals_silver\"))"
   ]
  },
  {
   "cell_type": "code",
   "execution_count": 0,
   "metadata": {
    "application/vnd.databricks.v1+cell": {
     "cellMetadata": {
      "byteLimit": 2048000,
      "implicitDf": true,
      "rowLimit": 10000
     },
     "inputWidgets": {},
     "nuid": "e0405389-1528-48ba-96cc-90a9c67f1c34",
     "showTitle": false,
     "title": ""
    }
   },
   "outputs": [],
   "source": [
    "%sql\n",
    "SELECT * FROM fact_rentals_silver"
   ]
  },
  {
   "cell_type": "code",
   "execution_count": 0,
   "metadata": {
    "application/vnd.databricks.v1+cell": {
     "cellMetadata": {
      "byteLimit": 2048000,
      "implicitDf": true,
      "rowLimit": 10000
     },
     "inputWidgets": {},
     "nuid": "f89680de-3ae9-4a27-9c0c-a8e4eef7667a",
     "showTitle": false,
     "title": ""
    }
   },
   "outputs": [],
   "source": [
    "%sql\n",
    "DESCRIBE EXTENDED sakila_dlh.fact_rentals_silver"
   ]
  },
  {
   "cell_type": "markdown",
   "metadata": {
    "application/vnd.databricks.v1+cell": {
     "cellMetadata": {},
     "inputWidgets": {},
     "nuid": "cf279dad-12f0-4a55-a821-ecc61d653d6b",
     "showTitle": false,
     "title": ""
    }
   },
   "source": [
    "##### 6.3. Gold Table: Perform Aggregations"
   ]
  },
  {
   "cell_type": "code",
   "execution_count": 0,
   "metadata": {
    "application/vnd.databricks.v1+cell": {
     "cellMetadata": {
      "byteLimit": 2048000,
      "implicitDf": true,
      "rowLimit": 10000
     },
     "inputWidgets": {},
     "nuid": "b4d66c1d-4712-4cc1-bf4d-0d297cd6a1fb",
     "showTitle": false,
     "title": ""
    }
   },
   "outputs": [],
   "source": [
    "%sql\n",
    "-- Author a query that returns the average number of rentals per year\n",
    "CREATE OR REPLACE TABLE sakila_dlh.fact_rentals_gold AS (\n",
    "    SELECT \n",
    "        rd.calendar_year AS Year,\n",
    "        COUNT(r.rental_id) AS TotalRentals,\n",
    "        AVG(COUNT(r.rental_id)) OVER () AS AverageRentalsPerYear\n",
    "    FROM \n",
    "        sakila_dlh.fact_rentals_silver AS r\n",
    "    JOIN \n",
    "        sakila_dlh.dim_date AS rd ON rd.date_key = r.rental_date_key\n",
    "    GROUP BY \n",
    "        rd.calendar_year\n",
    "    ORDER BY \n",
    "        Year DESC\n",
    ");\n",
    "\n",
    "SELECT * FROM sakila_dlh.fact_rentals_gold;\n"
   ]
  },
  {
   "cell_type": "markdown",
   "metadata": {
    "application/vnd.databricks.v1+cell": {
     "cellMetadata": {},
     "inputWidgets": {},
     "nuid": "143f665e-eda3-4fbf-8f72-9aab08ae302b",
     "showTitle": false,
     "title": ""
    }
   },
   "source": [
    "#### 7.0. Clean up the File System"
   ]
  },
  {
   "cell_type": "code",
   "execution_count": 0,
   "metadata": {
    "application/vnd.databricks.v1+cell": {
     "cellMetadata": {
      "byteLimit": 2048000,
      "rowLimit": 10000
     },
     "inputWidgets": {},
     "nuid": "5d6447df-9b1b-4ca6-aab4-9651998583d9",
     "showTitle": false,
     "title": ""
    }
   },
   "outputs": [],
   "source": [
    "%fs rm -r /FileStore/lab_data/"
   ]
  }
 ],
 "metadata": {
  "application/vnd.databricks.v1+notebook": {
   "dashboards": [],
   "language": "python",
   "notebookMetadata": {
    "mostRecentlyExecutedCommandWithImplicitDF": {
     "commandId": 4004530187385085,
     "dataframes": [
      "_sqldf"
     ]
    },
    "pythonIndentUnit": 4
   },
   "notebookName": "DS2002-Capstone",
   "widgets": {}
  }
 },
 "nbformat": 4,
 "nbformat_minor": 0
}
